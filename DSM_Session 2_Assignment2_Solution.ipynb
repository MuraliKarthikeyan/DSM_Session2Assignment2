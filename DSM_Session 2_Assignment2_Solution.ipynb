{
 "cells": [
  {
   "cell_type": "markdown",
   "metadata": {},
   "source": [
    "# Data Science Masters Session2:Assignment2"
   ]
  },
  {
   "cell_type": "code",
   "execution_count": 1,
   "metadata": {},
   "outputs": [
    {
     "name": "stdout",
     "output_type": "stream",
     "text": [
      "Enter comma-separated numbers : 11,22,33,44,55,66,77,88,99\n",
      "List :  ['11', '22', '33', '44', '55', '66', '77', '88', '99']\n"
     ]
    }
   ],
   "source": [
    "# 1. Write a program which accepts a sequence of comma-separated numbers from console and generate a list.\n",
    "\n",
    "# Solution\n",
    "inputValues = input(\"Enter comma-separated numbers : \")  # Getting input values from user\n",
    "outputList = inputValues.split(\",\")                      # Spliting them and putting to a list\n",
    "print(\"List : \",outputList)                              # Printing list..."
   ]
  },
  {
   "cell_type": "code",
   "execution_count": 10,
   "metadata": {},
   "outputs": [
    {
     "name": "stdout",
     "output_type": "stream",
     "text": [
      "*\n",
      "**\n",
      "***\n",
      "****\n",
      "*****\n",
      "****\n",
      "***\n",
      "**\n",
      "*\n",
      "\n"
     ]
    }
   ],
   "source": [
    "# 2. Create the below pattern using nested for loop in Python.\n",
    "\n",
    "# Solution\n",
    "def displayStar(n):                        # function definition\n",
    "    for i in range(1,n+1):                 # Generating series from 1 to 5\n",
    "        print(\"*\"*i)                       # Printing * (i times) \n",
    "        if(i==n):                          \n",
    "            for j in range(n-1,-1,-1):     # Generating series in reverse to reduce * each line\n",
    "                print(\"*\"*j)               # Printing * (j times) \n",
    "displayStar(5)                             # function call with n = 5 "
   ]
  },
  {
   "cell_type": "code",
   "execution_count": 15,
   "metadata": {},
   "outputs": [
    {
     "name": "stdout",
     "output_type": "stream",
     "text": [
      "Enter the word... : Acadgild\n",
      "Reversed using inbuilt Str function :  dligdacA\n",
      "Reversed using for loop function :  dligdacA\n"
     ]
    }
   ],
   "source": [
    "# 3. Write a Python program to reverse a word after accepting the input from the user.\n",
    "\n",
    "# Solution\n",
    "inputStr = input(\"Enter the word... : \")      # getting input from user...\n",
    "def reverse(name):                            # function definition             \n",
    "    rev_char = \"\"                         \n",
    "    for char in name:        \n",
    "        rev_char = char + rev_char    \n",
    "    return rev_char   \n",
    "print(\"Reversed using inbuilt Str function : \", inputStr[::-1]) \n",
    "print(\"Reversed using for loop function : \", reverse(inputStr))"
   ]
  },
  {
   "cell_type": "code",
   "execution_count": 40,
   "metadata": {},
   "outputs": [
    {
     "name": "stdout",
     "output_type": "stream",
     "text": [
      "  WE,THE PEOPLE OF INDIA,\n",
      "\thaving solemnly resolved to constitute India into a SOVEREIGN,!\n",
      "\t\tSOCIALIST, SECULAR, DEMOCRATIC REPUBLIC \n",
      "\t\t and to secure to all its citizens\n"
     ]
    }
   ],
   "source": [
    "# 4. Write a Python Program to print the given string in the format specified in the sample output.\n",
    "# Given String\n",
    "# WE, THE PEOPLE OF INDIA, having solemnly resolved to constitute India into a SOVEREIGN,\n",
    "# SOCIALIST, SECULAR, DEMOCRATIC REPUBLIC and to secure to all its citizens\n",
    "\n",
    "# Solution\n",
    "inputStr = \"  WE,THE PEOPLE OF INDIA,\\n\\thaving solemnly resolved to constitute India into a SOVEREIGN,!\\n\\t\\tSOCIALIST, SECULAR, DEMOCRATIC REPUBLIC \\n\\t\\t and to secure to all its citizens\"\n",
    "print(inputStr)"
   ]
  }
 ],
 "metadata": {
  "kernelspec": {
   "display_name": "Python 3",
   "language": "python",
   "name": "python3"
  },
  "language_info": {
   "codemirror_mode": {
    "name": "ipython",
    "version": 3
   },
   "file_extension": ".py",
   "mimetype": "text/x-python",
   "name": "python",
   "nbconvert_exporter": "python",
   "pygments_lexer": "ipython3",
   "version": "3.6.5"
  }
 },
 "nbformat": 4,
 "nbformat_minor": 2
}
